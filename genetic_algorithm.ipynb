{
 "cells": [
  {
   "cell_type": "markdown",
   "metadata": {},
   "source": [
    "# Genetic algorithm"
   ]
  },
  {
   "cell_type": "markdown",
   "metadata": {},
   "source": [
    "### Libraries"
   ]
  },
  {
   "cell_type": "code",
   "execution_count": 2,
   "metadata": {},
   "outputs": [],
   "source": [
    "import numpy as np\n",
    "import random\n",
    "import itertools\n",
    "import matplotlib.pyplot as plt"
   ]
  },
  {
   "cell_type": "markdown",
   "metadata": {},
   "source": [
    "### Initializations and auxiliar methods"
   ]
  },
  {
   "cell_type": "code",
   "execution_count": 14,
   "metadata": {},
   "outputs": [
    {
     "name": "stdout",
     "output_type": "stream",
     "text": [
      "Iteration:  99\r"
     ]
    },
    {
     "data": {
      "image/png": "[encoded data removed]",
      "text/plain": [
       "<Figure size 720x360 with 1 Axes>"
      ]
     },
     "metadata": {
      "needs_background": "light"
     },
     "output_type": "display_data"
    }
   ],
   "source": [
    "class GA:\n",
    "\n",
    "    def __init__(self,time_deadline,problem_path,**kwargs): #the default values for these parameters should be the best values found in the experimental optimization of the algorithm.\n",
    "        self.problem_path = problem_path\n",
    "        self.best_solution = None \n",
    "        self.time_deadline = time_deadline \n",
    "        self.best_fitness = None\n",
    "\n",
    "        self.evolution = []\n",
    "        \n",
    "        #TODO : Completar método para configurar el algoritmo genético (e.g., seleccionar cruce, mutación, etc.)\n",
    "\n",
    "    def get_best_solution(self):  #Returns best solution found up to any point. Have to be a list of lists (each list contains the tour taken by each vehicle)\n",
    "        \n",
    "        return self.translate_solution(self.best_solution)\n",
    "\n",
    "    def read_problem_instance(self): #Process the .txt file with the instance of the problem\n",
    "        with open(self.problem_path, \"r\") as f:\n",
    "            text = f.read()\n",
    "        lines = text.strip().split('\\n')\n",
    "        num_locations = int(lines[0].split()[1])\n",
    "        num_vehicles = int(lines[1].split()[1])\n",
    "\n",
    "        matrix_lines = [line.split() for line in lines[3:]]\n",
    "        distance_matrix = np.array(matrix_lines, dtype=float)\n",
    "\n",
    "        return num_locations,num_vehicles,distance_matrix\n",
    "\n",
    "\n",
    "    ''' ------------------- Auxiliar methods ------------------- '''\n",
    "\n",
    "    def translate_solution(self,solution):\n",
    "        final = []\n",
    "        aux = [0]\n",
    "        for s in solution:\n",
    "            if s > 0:\n",
    "                aux.append(s)\n",
    "            else:\n",
    "                aux.append(0)\n",
    "                final.append(aux)\n",
    "                aux=[0]\n",
    "            \n",
    "        aux.append(0)\n",
    "        final.append(aux)\n",
    "        return final\n",
    "\n",
    "    def transform_solution(self,solution):\n",
    "        final = []\n",
    "        aux = []\n",
    "        for s in solution:\n",
    "            if s > 0:\n",
    "                aux.append(s)\n",
    "            else:\n",
    "                final.append(aux) \n",
    "                aux=[] \n",
    "        final.append(aux)\n",
    "        return final\n",
    "\n",
    "    def inverted_transformation(self,solution):\n",
    "        final = []\n",
    "        for i,elem in enumerate(solution):\n",
    "            for n in elem:\n",
    "                final.append(n)\n",
    "            if i !=len(solution)-1:\n",
    "                final.append(0)\n",
    "        return final\n",
    "    \n",
    "    def create_individual(self,n_locations,n_vehicles): \n",
    "        aux = [0]*(n_vehicles-1)\n",
    "        rnge = list(range(1,n_locations))\n",
    "        individual = aux+rnge\n",
    "        random.shuffle(individual)\n",
    "        return individual\n",
    "    \n",
    "    def create_population(self,n_locations,n_vehicles,n_individuals):\n",
    "        population=[]\n",
    "        for i in range(n_individuals):\n",
    "            population.append(self.create_individual(n_locations,n_vehicles))\n",
    "        return population\n",
    "    \n",
    "    def greedy_heuristic(self,dist_matrix, n_vehicles,n_locations):\n",
    "        routes = [[] for _ in range(n_vehicles)]\n",
    "        visited = set()\n",
    "        visited.add(0)  # Assuming the depot is at index 0\n",
    "\n",
    "        for route in routes:   # Initialize routes with the depot\n",
    "            route.append(0)\n",
    "\n",
    "        # Assign locations to vehicles\n",
    "        while len(visited) < n_locations:\n",
    "            for route in routes:\n",
    "                if len(visited) == n_locations:\n",
    "                    break\n",
    "                last_location = route[-1]\n",
    "                closest_distance = float('inf')\n",
    "                closest_location = None\n",
    "                for i in range(n_locations):\n",
    "                    if i not in visited and dist_matrix[last_location][i] < closest_distance:\n",
    "                        closest_distance = dist_matrix[last_location][i]\n",
    "                        closest_location = i\n",
    "                route.append(closest_location)\n",
    "                visited.add(closest_location)\n",
    "\n",
    "        for route in routes:\n",
    "            route.append(0)\n",
    "        routes = [r[:-1] for r in routes]\n",
    "        population = list(itertools.chain.from_iterable(routes))\n",
    "        population = population[1:]\n",
    "\n",
    "        return population\n",
    "    \n",
    "    def fitness(self,solution,dist_matrix):\n",
    "    \n",
    "        \"\"\"\n",
    "        If the solution is in format : [1,3,6,0,10,5,9,0,7,4,8,2] (permutation representation) We should calculate the fitness of that solution\n",
    "        as 1/total distance traveled by that vehicle\n",
    "        \"\"\"\n",
    "        total_distance = 0\n",
    "        origin = 0\n",
    "        for n in solution:\n",
    "            destination=n\n",
    "            total_distance += dist_matrix[origin][destination]\n",
    "            origin = n\n",
    "\n",
    "        destination=0\n",
    "        total_distance+=dist_matrix[origin][destination]\n",
    "        return 1/total_distance\n",
    "    \n",
    "    def select_parent(self,population_fitness, n=4, m=100):\n",
    "        if n<m and n%2 == 0:\n",
    "            #Randomly sample m individuals from population\n",
    "            sampled_individuals = random.sample(population_fitness, m)\n",
    "\n",
    "            #Sort according to fitness (best individuals first)\n",
    "            sorted_individuals = sorted(sampled_individuals, key=lambda x: x[0], reverse=True)\n",
    "\n",
    "            #Select the top n individuals from the m individuals sampled\n",
    "            selected_parents = sorted_individuals[:n]\n",
    "            selected_parents = [parent[1] for parent in selected_parents]\n",
    "\n",
    "            return selected_parents\n",
    "        \n",
    "        else:\n",
    "            print(\"n is not less than m or n is not even\")\n",
    "\n",
    "    def inspired_crossover_DPX(self,parent1,parent2):\n",
    "        n = len(parent1)\n",
    "        c1 = [0] * n\n",
    "        c2 = [0] * n\n",
    "\n",
    "        #Copy ends of the parents to opposite positions in the children\n",
    "        c1[0] = parent2[n - 1]\n",
    "        c2[0] = parent1[n - 1]\n",
    "        c1[n - 1] = parent2[0]\n",
    "        c2[n - 1] = parent1[0]\n",
    "        \n",
    "        #Swap remaining cities as given algorithm from paper\n",
    "        for i in range(n):\n",
    "            for j in range(1, n - 1):\n",
    "                if parent2[i] == parent1[j]:\n",
    "                    c1[j] = parent2[j]\n",
    "                if parent1[i] == parent2[j]:\n",
    "                    c2[j] = parent1[j]\n",
    "\n",
    "        return c1, c2\n",
    "    \n",
    "    def extract_chromosome(self,solution):\n",
    "        final = self.transform_solution(solution)\n",
    "        n = random.randint(0,len(final)-1)\n",
    "        return final, n\n",
    "    \n",
    "    def inversion_mutaion(self,chromosome):\n",
    "        index1, index2 = random.sample(range(len(chromosome)), 2)\n",
    "        start_index = min(index1, index2)\n",
    "        end_index = max(index1, index2)\n",
    "        inverted = chromosome[:start_index] + list(reversed(chromosome[start_index:end_index + 1])) + chromosome[end_index + 1:]\n",
    "        return inverted\n",
    "    \n",
    "    def in_route_mutation(self,chromosome):\n",
    "\n",
    "        chromosome_length = len(chromosome)\n",
    "\n",
    "        # Choose random indices for the subsection\n",
    "        start_idx = random.randint(0, chromosome_length - 1)\n",
    "        end_idx = random.randint(start_idx + 1, chromosome_length)\n",
    "        \n",
    "        # Select the subsection to be reversed\n",
    "        subsection = chromosome[start_idx:end_idx]\n",
    "        \n",
    "        # Perform in-route mutation by reversing the subsection\n",
    "        mutated_chromosome = chromosome[:start_idx] + subsection[::-1] + chromosome[end_idx:]\n",
    "        \n",
    "        return mutated_chromosome\n",
    "    \n",
    "    def cross_route_mutation(self,solution):\n",
    "        \"\"\"\n",
    "        This function applies Cross-route mutation where we mutate the routes of different\n",
    "        salesmen in order to generate the new population\n",
    "        \"\"\"\n",
    "\n",
    "        #Ensure there are at least two salesmen for mutation\n",
    "        final = self.transform_solution(solution)\n",
    "\n",
    "        if len(final) < 2:\n",
    "            return final\n",
    "        \n",
    "        #Choose two distinct random indices representing salesmen\n",
    "        salesman_1_idx, salesman_2_idx = random.sample(range(len(final)), 2)\n",
    "        \n",
    "        #Select random subsections from the chosen salesmen\n",
    "        salesman_1 = final[salesman_1_idx]\n",
    "        salesman_2 = final[salesman_2_idx]\n",
    "        \n",
    "        #Ensure the subsections are not empty\n",
    "        if len(salesman_1) == 0 or len(salesman_2) == 0:\n",
    "            return self.inverted_transformation(final)\n",
    "        \n",
    "        #Choose random subsections within the salesmen\n",
    "        start_idx_1 = random.randint(0, len(salesman_1) - 1)\n",
    "        end_idx_1 = random.randint(start_idx_1 + 1, len(salesman_1))\n",
    "        \n",
    "        start_idx_2 = random.randint(0, len(salesman_2) - 1)\n",
    "        end_idx_2 = random.randint(start_idx_2 + 1, len(salesman_2))\n",
    "        \n",
    "        #Swap the subsections between the two salesmen\n",
    "        mutated_final = final.copy()\n",
    "        mutated_final[salesman_1_idx] = salesman_1[:start_idx_1] + salesman_2[start_idx_2:end_idx_2] + salesman_1[end_idx_1:]\n",
    "        mutated_final[salesman_2_idx] = salesman_2[:start_idx_2] + salesman_1[start_idx_1:end_idx_1] + salesman_2[end_idx_2:]\n",
    "        \n",
    "        return self.inverted_transformation(mutated_final)\n",
    "    \n",
    "    def replace_cmin(self, fitness, offspring):\n",
    "        # CD/RW strategy for replacing cmin\n",
    "        cmin = min(fitness, key=lambda x: self.contribution_of_diversity(x[1], [ind[1] for ind in fitness]))\n",
    "        fitness_without_cmin = [ind for ind in fitness if ind != cmin]\n",
    "\n",
    "        # Check if offspring provides more diversity than cmin\n",
    "        if self.contribution_of_diversity(offspring, [ind[1] for ind in fitness_without_cmin]) > self.contribution_of_diversity(cmin[1], [ind[1] for ind in fitness]):\n",
    "            fitness.remove(cmin)\n",
    "        else:\n",
    "            # Using replace by worst otherwise\n",
    "            self.replace_by_worst(fitness, offspring)\n",
    "        return [ind[1] for ind in fitness], fitness\n",
    "\n",
    "    def replace_by_worst(self, fitness, offspring):\n",
    "        # RW strategy for replacing the worst individual\n",
    "        worst_individual = max(fitness, key=lambda x: x[0])\n",
    "        offspring_fitness = next(fit[0] for fit in fitness if fit[1] == offspring)\n",
    "\n",
    "        if offspring_fitness < worst_individual[0]:\n",
    "            fitness.remove(worst_individual)\n",
    "\n",
    "    def contribution_of_diversity(self, individual, population):\n",
    "        # Calculate the contribution of diversity of an individual to a population based on the euclidean distance of the vectors\n",
    "        distances = [np.linalg.norm(np.array(individual) - np.array(ind)) for ind in population]\n",
    "        return float(np.sum(distances) / len(distances))\n",
    "    \n",
    "    def fitness_proportion_ranking_selection(self, fitness, k = 2):\n",
    "        # Linear ranking selection\n",
    "        # Sort individuals by fitness\n",
    "        #print(fitness[1])\n",
    "        #sorted_fitness = sorted(fitness, key=lambda x: x[0], reverse=True)\n",
    "        #print(sorted_fitness[1])\n",
    "        # Calculate selection probability for each individual\n",
    "        cummulative = sum(x[0] for x in fitness)\n",
    "        selection = []\n",
    "        selection_fitness = []\n",
    "        while len(selection) < k:\n",
    "            i = random.randint(0, len(fitness)-1)\n",
    "            f, ind = fitness[i]\n",
    "            r = random.random()\n",
    "            p = f/cummulative\n",
    "            if r < p:\n",
    "                selection.append(ind)\n",
    "                selection_fitness.append((f, ind))\n",
    "        #print(selection)\n",
    "        # Select two individuals\n",
    "        return selection, selection_fitness\n",
    "    \n",
    "    def linear_ranking_selection(self,fitness, s = 1.5, k = 2):\n",
    "        f = sorted(fitness)\n",
    "        selected = []\n",
    "        for i, ft in enumerate(f):\n",
    "            p = ((2-s)/len(f))+((2*i*(s-1))/(len(f)*(len(f)-1)))\n",
    "            r = random.random()\n",
    "            if r < p: \n",
    "                selected.append(ft)\n",
    "            if len(selected) == k: break\n",
    "        if len(selected)<k:\n",
    "            selected = selected + list(f[-(k-len(selected)):])\n",
    "        return selected\n",
    "    \n",
    "    def exponential_ranking_selection(self,fitness, c = 0.5, k = 2):\n",
    "        f = sorted(fitness)\n",
    "        selected = []\n",
    "        for i, ft in enumerate(f):\n",
    "            p = ((c-1)/(c*len(f) -1))(c**(len(f)-i-1))\n",
    "            r = random.random()\n",
    "            if r < p: \n",
    "                selected.append(ft)\n",
    "            if len(selected) == k: break\n",
    "        if len(selected)<k:\n",
    "            selected = selected + list(f[-(k-len(selected)):])\n",
    "        return selected\n",
    "    \n",
    "    def tournament_selection(self,fitness, k = 20, n= 2, p = 1):\n",
    "        selected = []\n",
    "        while len(selected) < n:\n",
    "            sample = random.sample(fitness, k = k)\n",
    "            r = random.random()\n",
    "            if r < p:\n",
    "                for j in range(1, len(sample)):\n",
    "                    best = sorted(sample)[-j]\n",
    "                    if best not in selected:\n",
    "                        selected.append(best)\n",
    "                        break\n",
    "        return selected\n",
    "    \n",
    "    def run(self,individuals=300, crossovers= 1, max_iter=100, objective_value=0.2, proba_selection = [0.5,0.5]):\n",
    "        '''Initialize population'''\n",
    "        n_location,n_vehicles,instance = self.read_problem_instance()          \n",
    "        population = self.create_population(n_location,n_vehicles,individuals) \n",
    "        \n",
    "        #each of the starting populations was seeded with a solution produced by a simple greedy heuristic \n",
    "        #in order to give the GA a good starting point (paper)\n",
    "        #population = self.greedy_heuristic(instance,n_vehicles,n_locations)\n",
    "        '''Evaluate each solution and creating list with the fitness'''\n",
    "        fitness = []\n",
    "        self.evolution = []\n",
    "        \n",
    "        for s in population:                                                                                                                                                          \n",
    "            f = self.fitness(s,instance)\n",
    "            fitness.append((f, s))\n",
    "            if self.best_fitness == None or f > self.best_fitness:          \n",
    "                self.best_fitness = f\n",
    "                self.best_solution = s\n",
    "                \n",
    "        n_iter = 0\n",
    "        while (self.best_fitness is not None and self.best_fitness < objective_value and n_iter < max_iter) or  self.best_fitness is None: #Termination condition\n",
    "            print(\"Iteration: \", n_iter, end = \"\\r\")\n",
    "            self.evolution.append(self.best_fitness)\n",
    "\n",
    "                    \n",
    "            for i in range(crossovers):  #Iterations specified in the configuration (10 by default)\n",
    "                \n",
    "                '''SELECT parent'''\n",
    "                if random.random() < proba_selection[0]:\n",
    "                    parents, _ = self.fitness_proportion_ranking_selection(fitness, k = 2)\n",
    "                    parent1 =  parents[0]        \n",
    "                    parent2 =  parents[1] \n",
    "                else:\n",
    "                    parents = self.select_parent(fitness, n = 2)\n",
    "                    parent1 =  parents[0]        \n",
    "                    parent2 =  parents[1]   \n",
    "\n",
    "                                                   \n",
    "\n",
    "                '''CROSSOVER'''                                                                                            \n",
    "                child1, child2 = self.inspired_crossover_DPX(parent1, parent2)                  \n",
    "                \n",
    "                '''MUTATION''' \n",
    "                #if random.random() < proba_mutation[0]:  \n",
    "                _child1, n1 = self.extract_chromosome(child1)\n",
    "                _child2, n2 = self.extract_chromosome(child2)\n",
    "               \n",
    "                _child1[n1] = self.in_route_mutation(_child1[n1])\n",
    "                _child2[n2] = self.in_route_mutation(_child2[n2])\n",
    "\n",
    "                child1 = self.inverted_transformation(_child1)\n",
    "                child2 = self.inverted_transformation(_child2)\n",
    "\n",
    "                #if random.random() < proba_mutation[1]:\n",
    "                child1 = self.cross_route_mutation(child1)\n",
    "                child2 = self.cross_route_mutation(child2)\n",
    "\n",
    "                '''EVALUATION'''\n",
    "                #print(child1)\n",
    "                f1 = self.fitness(child1, instance)\n",
    "                f2 = self.fitness(child2, instance)\n",
    "\n",
    "                fitness.append((f1, child1))\n",
    "                fitness.append((f2, child2))\n",
    "\n",
    "                if self.best_fitness == None or f1 > self.best_fitness:\n",
    "                    self.best_fitness = f1\n",
    "                    self.best_solution = child1\n",
    "\n",
    "                if self.best_fitness == None or f2 > self.best_fitness:\n",
    "                    self.best_fitness = f2\n",
    "                    self.best_solution = child2\n",
    "            \n",
    "                #selected_offspring = random.choice([child1, child2])      #This will continue with the diversity of the population but other methods can be implemented such as: selecting child with best fitness or by alternancy in each iteration.\n",
    "                #population, fitness = self.replace_cmin(fitness, selected_offspring)\n",
    "                \n",
    "                \n",
    "                population, fitness = self.replace_cmin(fitness, child1)\n",
    "                population, fitness = self.replace_cmin(fitness, child2)\n",
    "            \n",
    "            if random.random() < proba_selection[1]:\n",
    "                population2 = self.create_population(n_location,n_vehicles,individuals)\n",
    "                for s in population2:                                                                                                                                                          \n",
    "                    f = self.fitness(s,instance)\n",
    "                    fitness.append((f, s))\n",
    "                    population.append(s)\n",
    "                    if self.best_fitness == None or f > self.best_fitness:          \n",
    "                        self.best_fitness = f\n",
    "                        self.best_solution = s\n",
    "            \n",
    "                population, fitness = self.fitness_proportion_ranking_selection(fitness, k = individuals)\n",
    "\n",
    "                    \n",
    "            n_iter += 1\n",
    "\n",
    "        return self.translate_solution(self.best_solution)\n",
    "\n",
    "    def plot_evolution(self):\n",
    "        \n",
    "        x = list(range(0,len(self.evolution[1:])))\n",
    "        y = [1/x for x in self.evolution[1:]]\n",
    "\n",
    "        # plot lines\n",
    "        fig = plt.figure(figsize=(10,5))\n",
    "        #ax = fig.add_subplot(111)\n",
    "        #ax.tick_params(axis='x', colors='white')    #setting up X-axis tick color to red\n",
    "        #ax.tick_params(axis='y', colors='white')  #setting up Y-axis tick color to black\n",
    "\n",
    "        plt.plot(x, y)\n",
    "        plt.show()\n",
    "\n",
    "if __name__ == '__main__':\n",
    "    a = GA(0,'instances/instance1.txt')\n",
    "    a.run(max_iter=100)\n",
    "    a.plot_evolution()\n"
   ]
  },
  {
   "cell_type": "markdown",
   "metadata": {},
   "source": [
    "## · INITIALIZE random population of solutions"
   ]
  },
  {
   "cell_type": "markdown",
   "metadata": {},
   "source": [
    "### Create individual"
   ]
  },
  {
   "cell_type": "code",
   "execution_count": null,
   "metadata": {},
   "outputs": [],
   "source": [
    "def create_individual(self,n_locations,n_vehicles): \n",
    "    aux = [0]*(n_vehicles-1)\n",
    "    rnge = list(range(1,n_locations))\n",
    "    individual = aux+rnge\n",
    "    random.shuffle(individual)\n",
    "    return individual\n",
    "\n",
    "GA.create_individual = create_individual"
   ]
  },
  {
   "cell_type": "markdown",
   "metadata": {},
   "source": [
    "### Create population"
   ]
  },
  {
   "cell_type": "code",
   "execution_count": null,
   "metadata": {},
   "outputs": [],
   "source": [
    "def create_population(self,n_locations,n_vehicles,n_individuals):\n",
    "    population=[]\n",
    "    for i in range(n_individuals):\n",
    "        population.append(self.create_individual(n_locations,n_vehicles))\n",
    "    return population\n",
    "\n",
    "GA.create_population = create_population"
   ]
  },
  {
   "cell_type": "markdown",
   "metadata": {},
   "source": [
    "### Greedy Heuristic (to give GA a good starting point)"
   ]
  },
  {
   "cell_type": "code",
   "execution_count": null,
   "metadata": {},
   "outputs": [],
   "source": [
    "def greedy_heuristic(self,dist_matrix, n_vehicles,n_locations):\n",
    "    routes = [[] for _ in range(n_vehicles)]\n",
    "    visited = set()\n",
    "    visited.add(0)  # Assuming the depot is at index 0\n",
    "\n",
    "    for route in routes:   # Initialize routes with the depot\n",
    "        route.append(0)\n",
    "\n",
    "    # Assign locations to vehicles\n",
    "    while len(visited) < n_locations:\n",
    "        for route in routes:\n",
    "            if len(visited) == n_locations:\n",
    "                break\n",
    "            last_location = route[-1]\n",
    "            closest_distance = float('inf')\n",
    "            closest_location = None\n",
    "            for i in range(n_locations):\n",
    "                if i not in visited and dist_matrix[last_location][i] < closest_distance:\n",
    "                    closest_distance = dist_matrix[last_location][i]\n",
    "                    closest_location = i\n",
    "            route.append(closest_location)\n",
    "            visited.add(closest_location)\n",
    "\n",
    "    for route in routes:\n",
    "        route.append(0)\n",
    "    routes = [r[:-1] for r in routes]\n",
    "    population = list(itertools.chain.from_iterable(routes))\n",
    "    population = population[1:]\n",
    "\n",
    "    return population\n",
    "\n",
    "GA.greedy_heuristic = greedy_heuristic"
   ]
  },
  {
   "cell_type": "markdown",
   "metadata": {},
   "source": [
    "------------------------------------"
   ]
  },
  {
   "cell_type": "markdown",
   "metadata": {},
   "source": [
    "## · EVALUATION of each solution"
   ]
  },
  {
   "cell_type": "markdown",
   "metadata": {},
   "source": [
    "### Method **fitness()**\n",
    "Function that measures the fitness of an individual in the environment -> Objective function"
   ]
  },
  {
   "cell_type": "code",
   "execution_count": null,
   "metadata": {},
   "outputs": [],
   "source": [
    "def fitness(self,solution,dist_matrix):\n",
    "    \n",
    "    \"\"\"\n",
    "    If the solution is in format : [1,3,6,0,10,5,9,0,7,4,8,2] (permutation representation) We should calculate the fitness of that solution\n",
    "    as 1/total distance traveled by that vehicle\n",
    "    \"\"\"\n",
    "    total_distance = 0\n",
    "    origin = 0\n",
    "    for n in solution:\n",
    "        destination=n\n",
    "        total_distance += dist_matrix[origin][destination]\n",
    "        origin = n\n",
    "\n",
    "    destination=0\n",
    "    total_distance+=dist_matrix[origin][destination]\n",
    "    return 1/total_distance\n",
    "\n",
    "GA.fitness = fitness"
   ]
  },
  {
   "cell_type": "markdown",
   "metadata": {},
   "source": [
    "--------------------"
   ]
  },
  {
   "cell_type": "markdown",
   "metadata": {},
   "source": [
    "## · SELECT parent"
   ]
  },
  {
   "cell_type": "markdown",
   "metadata": {},
   "source": [
    "### Method **select_parent()**"
   ]
  },
  {
   "cell_type": "code",
   "execution_count": null,
   "metadata": {},
   "outputs": [],
   "source": [
    "def select_parent(self,population_fitness, n=4, m=100):\n",
    "    if n<m and n%2 == 0:\n",
    "        #Randomly sample m individuals from population\n",
    "        sampled_individuals = random.sample(population_fitness, m)\n",
    "\n",
    "        #Sort according to fitness (best individuals first)\n",
    "        sorted_individuals = sorted(sampled_individuals, key=lambda x: x[0], reverse=True)\n",
    "\n",
    "        #Select the top n individuals from the m individuals sampled\n",
    "        selected_parents = sorted_individuals[:n]\n",
    "        selected_parents = [parent[1] for parent in selected_parents]\n",
    "\n",
    "        return selected_parents\n",
    "    \n",
    "    else:\n",
    "        print(\"n is not less than m or n is not even\")\n",
    "\n",
    "GA.select_parent = select_parent"
   ]
  },
  {
   "cell_type": "markdown",
   "metadata": {},
   "source": [
    "------------------"
   ]
  },
  {
   "cell_type": "markdown",
   "metadata": {},
   "source": [
    "## · CROSSOVER"
   ]
  },
  {
   "cell_type": "markdown",
   "metadata": {},
   "source": [
    "### Method **inspired_crossover_DPX()**"
   ]
  },
  {
   "cell_type": "code",
   "execution_count": null,
   "metadata": {},
   "outputs": [],
   "source": [
    "def inspired_crossover_DPX(self,parent1,parent2):\n",
    "    n = len(parent1)\n",
    "    c1 = [0] * n\n",
    "    c2 = [0] * n\n",
    "\n",
    "    #Copy ends of the parents to opposite positions in the children\n",
    "    c1[0] = parent2[n - 1]\n",
    "    c2[0] = parent1[n - 1]\n",
    "    c1[n - 1] = parent2[0]\n",
    "    c2[n - 1] = parent1[0]\n",
    "    \n",
    "    #Swap remaining cities as given algorithm from paper\n",
    "    for i in range(n):\n",
    "        for j in range(1, n - 1):\n",
    "            if parent2[i] == parent1[j]:\n",
    "                c1[j] = parent2[j]\n",
    "            if parent1[i] == parent2[j]:\n",
    "                c2[j] = parent1[j]\n",
    "\n",
    "    return c1, c2\n",
    "\n",
    "GA.inspired_crossover_DPX = inspired_crossover_DPX"
   ]
  },
  {
   "cell_type": "markdown",
   "metadata": {},
   "source": [
    "-------------------"
   ]
  },
  {
   "cell_type": "markdown",
   "metadata": {},
   "source": [
    "## · MUTATION"
   ]
  },
  {
   "cell_type": "markdown",
   "metadata": {},
   "source": [
    "### Method **extract_chromosome()**"
   ]
  },
  {
   "cell_type": "code",
   "execution_count": null,
   "metadata": {},
   "outputs": [],
   "source": [
    "def extract_chromosome(self,solution):\n",
    "        final = self.transform_solution(solution)\n",
    "        n = random.randint(0,len(final)-1)\n",
    "        return final, n\n",
    "\n",
    "GA.extract_chromosome = extract_chromosome"
   ]
  },
  {
   "cell_type": "markdown",
   "metadata": {},
   "source": [
    "### Method **in_route_mutation()**"
   ]
  },
  {
   "cell_type": "code",
   "execution_count": null,
   "metadata": {},
   "outputs": [],
   "source": [
    "def in_route_mutation(self,chromosome):\n",
    "\n",
    "    chromosome_length = len(chromosome)\n",
    "\n",
    "    # Choose random indices for the subsection\n",
    "    start_idx = random.randint(0, chromosome_length - 1)\n",
    "    end_idx = random.randint(start_idx + 1, chromosome_length)\n",
    "    \n",
    "    # Select the subsection to be reversed\n",
    "    subsection = chromosome[start_idx:end_idx]\n",
    "    \n",
    "    # Perform in-route mutation by reversing the subsection\n",
    "    mutated_chromosome = chromosome[:start_idx] + subsection[::-1] + chromosome[end_idx:]\n",
    "    \n",
    "    return mutated_chromosome\n",
    "\n",
    "GA.in_route_mutation = in_route_mutation"
   ]
  },
  {
   "cell_type": "markdown",
   "metadata": {},
   "source": [
    "### Method **cross_route_mutation()**"
   ]
  },
  {
   "cell_type": "code",
   "execution_count": null,
   "metadata": {},
   "outputs": [],
   "source": [
    "def cross_route_mutation(self,solution):\n",
    "    \"\"\"\n",
    "    This function applies Cross-route mutation where we mutate the routes of different\n",
    "    salesmen in order to generate the new population\n",
    "    \"\"\"\n",
    "\n",
    "    #Ensure there are at least two salesmen for mutation\n",
    "    final = self.transform_solution(solution)\n",
    "\n",
    "    if len(final) < 2:\n",
    "        return final\n",
    "    \n",
    "    #Choose two distinct random indices representing salesmen\n",
    "    salesman_1_idx, salesman_2_idx = random.sample(range(len(final)), 2)\n",
    "    \n",
    "    #Select random subsections from the chosen salesmen\n",
    "    salesman_1 = final[salesman_1_idx]\n",
    "    salesman_2 = final[salesman_2_idx]\n",
    "    \n",
    "    #Ensure the subsections are not empty\n",
    "    if len(salesman_1) == 0 or len(salesman_2) == 0:\n",
    "        return final\n",
    "    \n",
    "    #Choose random subsections within the salesmen\n",
    "    start_idx_1 = random.randint(0, len(salesman_1) - 1)\n",
    "    end_idx_1 = random.randint(start_idx_1 + 1, len(salesman_1))\n",
    "    \n",
    "    start_idx_2 = random.randint(0, len(salesman_2) - 1)\n",
    "    end_idx_2 = random.randint(start_idx_2 + 1, len(salesman_2))\n",
    "    \n",
    "    #Swap the subsections between the two salesmen\n",
    "    mutated_final = final.copy()\n",
    "    mutated_final[salesman_1_idx] = salesman_1[:start_idx_1] + salesman_2[start_idx_2:end_idx_2] + salesman_1[end_idx_1:]\n",
    "    mutated_final[salesman_2_idx] = salesman_2[:start_idx_2] + salesman_1[start_idx_1:end_idx_1] + salesman_2[end_idx_2:]\n",
    "    \n",
    "    return self.inverted_transformation(mutated_final)\n",
    "\n",
    "GA.cross_route_mutation = cross_route_mutation"
   ]
  },
  {
   "cell_type": "markdown",
   "metadata": {},
   "source": [
    "---------------"
   ]
  },
  {
   "cell_type": "markdown",
   "metadata": {},
   "source": [
    "## · REPLACE POPULATION"
   ]
  },
  {
   "cell_type": "markdown",
   "metadata": {},
   "source": [
    "Replacement strategy based on the contribution of diversity of the new offspring to the population where it will be included. The idea is to replace an individual of the population, with a poorer fitness function value and with a lower contribution to diversity, by the offspring."
   ]
  },
  {
   "cell_type": "code",
   "execution_count": null,
   "metadata": {},
   "outputs": [],
   "source": [
    "\n",
    "def replace_cmin(self, fitness, offspring):\n",
    "    # CD/RW strategy for replacing cmin\n",
    "    cmin = min(fitness, key=lambda x: self.contribution_of_diversity(x[1], [ind[1] for ind in fitness]))\n",
    "    fitness_without_cmin = [ind for ind in fitness if ind != cmin]\n",
    "\n",
    "    # Check if offspring provides more diversity than cmin\n",
    "    if self.contribution_of_diversity(offspring, [ind[1] for ind in fitness_without_cmin]) > self.contribution_of_diversity(cmin[1], [ind[1] for ind in fitness]):\n",
    "        fitness.remove(cmin)\n",
    "    else:\n",
    "        # Using replace by worst otherwise\n",
    "        self.replace_by_worst(fitness, offspring)\n",
    "    return [ind[1] for ind in fitness], fitness\n",
    "\n",
    "def replace_by_worst(self, fitness, offspring):\n",
    "    # RW strategy for replacing the worst individual\n",
    "    worst_individual = max(fitness, key=lambda x: x[0])\n",
    "    offspring_fitness = next(fit[0] for fit in fitness if fit[1] == offspring)\n",
    "\n",
    "    if offspring_fitness < worst_individual[0]:\n",
    "        fitness.remove(worst_individual)\n",
    "\n",
    "def contribution_of_diversity(self, individual, population):\n",
    "    # Calculate the contribution of diversity of an individual to a population based on the euclidean distance of the vectors\n",
    "    distances = [np.linalg.norm(np.array(individual) - np.array(ind)) for ind in population]\n",
    "    return float(np.sum(distances) / len(distances))\n",
    "\n",
    "\n",
    "def linear_ranking_selection(self, fitness, k = 2):\n",
    "    # Linear ranking selection\n",
    "    # Sort individuals by fitness\n",
    "    sorted_fitness = sorted(fitness, key=lambda x: x[0], reverse=True)\n",
    "    # Calculate selection probability for each individual\n",
    "    cummulative = sum(x[0] for x in fitness)\n",
    "    selection_probability = [(x[0] / cummulative) for x in fitness]\n",
    "    # Select two individuals\n",
    "    selected_individuals = random.choices(sorted_fitness, weights=selection_probability, k=k)\n",
    "    return selected_individuals, [ind[1] for ind in selected_individuals]\n",
    "\n",
    "GA.replace_cmin = replace_cmin\n",
    "GA.replace_by_worst = replace_by_worst\n",
    "GA.contribution_of_diversity = contribution_of_diversity\n",
    "GA.linear_ranking_selection = linear_ranking_selection\n",
    "        "
   ]
  },
  {
   "cell_type": "markdown",
   "metadata": {},
   "source": [
    "------------------"
   ]
  },
  {
   "cell_type": "markdown",
   "metadata": {},
   "source": [
    "### - Method   **run()**"
   ]
  },
  {
   "cell_type": "code",
   "execution_count": null,
   "metadata": {},
   "outputs": [],
   "source": [
    "def run(self,individuals=300, crossovers= 1, max_iter=100, objective_value=0.1, proba_crossover = [0.5], proba_mutation = [0.5,0.5], proba_selection = [0.5,0.5]):\n",
    "        '''Initialize population'''\n",
    "        n_location,n_vehicles,instance = self.read_problem_instance()          \n",
    "        population = self.create_population(n_location,n_vehicles,individuals) \n",
    "        \n",
    "        #each of the starting populations was seeded with a solution produced by a simple greedy heuristic \n",
    "        #in order to give the GA a good starting point (paper)\n",
    "        #population = self.greedy_heuristic(instance,n_vehicles,n_locations)\n",
    "        '''Evaluate each solution and creating list with the fitness'''\n",
    "        fitness = []\n",
    "        self.evolution = []\n",
    "        \n",
    "        for s in population:                                                                                                                                                          \n",
    "            f = self.fitness(s,instance)\n",
    "            fitness.append((f, s))\n",
    "            if self.best_fitness == None or f > self.best_fitness:          \n",
    "                self.best_fitness = f\n",
    "                self.best_solution = s\n",
    "                \n",
    "        n_iter = 0\n",
    "        while (self.best_fitness is not None and self.best_fitness < objective_value and n_iter < max_iter) or  self.best_fitness is None: #Termination condition\n",
    "            print(\"Iteration: \", n_iter, end = \"\\r\")\n",
    "            self.evolution.append(self.best_fitness)\n",
    "\n",
    "                    \n",
    "            for i in range(crossovers):  #Iterations specified in the configuration (10 by default)\n",
    "                \n",
    "                '''SELECT parent'''\n",
    "                if random.random() < proba_selection[1]:\n",
    "                    parents = self.select_parent(fitness, n = 2)\n",
    "                    parent1 =  parents[0]        \n",
    "                    parent2 =  parents[1]  \n",
    "                else:\n",
    "                    _, parents = self.linear_ranking_selection(fitness, k = 2)\n",
    "                    parent1 =  parents[0]        \n",
    "                    parent2 =  parents[1]                                          \n",
    "\n",
    "                '''CROSSOVER''' \n",
    "                if random.random() < proba_crossover[0]:                                                                                             \n",
    "                    child1, child2 = self.inspired_crossover_DPX(parent1, parent2)                                                         \n",
    "                else: child1, child2 = parent1.copy(), parent2.copy()\n",
    "                \n",
    "                '''MUTATION''' \n",
    "                if random.random() < proba_mutation[0]:  \n",
    "                    _child1, n1 = self.extract_chromosome(child1)\n",
    "                    _child2, n2 = self.extract_chromosome(child2)\n",
    "\n",
    "                    _child1[n1] = self.in_route_mutation(_child1[n1])\n",
    "                    _child2[n2] = self.in_route_mutation(_child2[n2])\n",
    "\n",
    "                    child1 = self.inverted_transformation(_child1)\n",
    "                    child2 = self.inverted_transformation(_child2)\n",
    "\n",
    "                if random.random() < proba_mutation[1]:\n",
    "                    child1 = self.cross_route_mutation(child1)\n",
    "                    child2 = self.cross_route_mutation(child2)\n",
    "\n",
    "                '''EVALUATION'''\n",
    "                f1 = self.fitness(child1, instance)\n",
    "                f2 = self.fitness(child2, instance)\n",
    "\n",
    "                fitness.append((f1, child1))\n",
    "                fitness.append((f2, child2))\n",
    "\n",
    "                if self.best_fitness == None or f1 > self.best_fitness:\n",
    "                    self.best_fitness = f1\n",
    "                    self.best_solution = child1\n",
    "\n",
    "                if self.best_fitness == None or f2 > self.best_fitness:\n",
    "                    self.best_fitness = f2\n",
    "                    self.best_solution = child2\n",
    "            \n",
    "                #selected_offspring = random.choice([child1, child2])      #This will continue with the diversity of the population but other methods can be implemented such as: selecting child with best fitness or by alternancy in each iteration.\n",
    "                #population, fitness = self.replace_cmin(fitness, selected_offspring)\n",
    "                \n",
    "                if random.random() < proba_selection[0]:\n",
    "                    population, fitness = self.replace_cmin(fitness, child1)\n",
    "                    population, fitness = self.replace_cmin(fitness, child2)\n",
    "                \n",
    "                if random.random() < proba_selection[1] & len(fitness) < individuals:\n",
    "                    fitness, population = self.linear_ranking_selection(fitness, k = 2)\n",
    "                    \n",
    "            n_iter += 1\n",
    "\n",
    "        return self.translate_solution(self.best_solution)\n",
    "\n",
    "def plot_evolution(self):\n",
    "    import matplotlib.pyplot as plt\n",
    "    x = list(range(0,len(self.evolution[1:])))\n",
    "    y = [1/x for x in self.evolution[1:]]\n",
    "\n",
    "    # plot lines\n",
    "    fig = plt.figure(figsize=(10,5))\n",
    "    ax = fig.add_subplot(111)\n",
    "    ax.tick_params(axis='x', colors='white')    #setting up X-axis tick color to red\n",
    "    ax.tick_params(axis='y', colors='white')  #setting up Y-axis tick color to black\n",
    "\n",
    "    plt.plot(x, y)\n",
    "    plt.show()\n",
    "GA.run = run\n",
    "GA.plot_evolution = plot_evolution"
   ]
  },
  {
   "cell_type": "code",
   "execution_count": null,
   "metadata": {},
   "outputs": [
    {
     "name": "stdout",
     "output_type": "stream",
     "text": [
      "Iteration:  99\r"
     ]
    },
    {
     "data": {
      "text/plain": [
       "[[0, 13, 11, 0], [0, 16, 6, 15, 8, 0], [0, 12, 7, 14, 4, 3, 5, 10, 2, 9, 1, 0]]"
      ]
     },
     "execution_count": 108,
     "metadata": {},
     "output_type": "execute_result"
    }
   ],
   "source": [
    "a = GA(0,'instance1.txt')\n",
    "a.run(max_iter=100)\n"
   ]
  },
  {
   "cell_type": "code",
   "execution_count": 112,
   "metadata": {},
   "outputs": [
    {
     "data": {
      "image/png": "[encoded data removed]",
      "text/plain": [
       "<Figure size 720x360 with 1 Axes>"
      ]
     },
     "metadata": {
      "needs_background": "dark"
     },
     "output_type": "display_data"
    }
   ],
   "source": [
    "a.plot_evolution()"
   ]
  },
  {
   "cell_type": "code",
   "execution_count": 68,
   "metadata": {},
   "outputs": [
    {
     "data": {
      "text/plain": [
       "([1, 13, 10, 11, 16, 0, 12, 5, 3, 4, 14, 15, 6, 8, 9, 0, 7, 2], 97.0)"
      ]
     },
     "execution_count": 68,
     "metadata": {},
     "output_type": "execute_result"
    }
   ],
   "source": [
    "a.best_solution, 1/a.best_fitness"
   ]
  },
  {
   "cell_type": "code",
   "execution_count": 69,
   "metadata": {},
   "outputs": [
    {
     "data": {
      "text/plain": [
       "10337.0"
      ]
     },
     "execution_count": 69,
     "metadata": {},
     "output_type": "execute_result"
    }
   ],
   "source": [
    "n_locations,n_vehicles,instance = a.read_problem_instance()\n",
    "1/a.fitness(a.create_individual(n_locations,n_vehicles),instance)"
   ]
  }
 ],
 "metadata": {
  "kernelspec": {
   "display_name": "Python 3",
   "language": "python",
   "name": "python3"
  },
  "language_info": {
   "codemirror_mode": {
    "name": "ipython",
    "version": 3
   },
   "file_extension": ".py",
   "mimetype": "text/x-python",
   "name": "python",
   "nbconvert_exporter": "python",
   "pygments_lexer": "ipython3",
   "version": "3.10.12"
  }
 },
 "nbformat": 4,
 "nbformat_minor": 2
}
