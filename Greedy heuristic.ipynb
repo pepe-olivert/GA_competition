{
 "cells": [
  {
   "cell_type": "code",
   "execution_count": null,
   "id": "2ad49b3a",
   "metadata": {},
   "outputs": [],
   "source": [
    "import numpy as np\n",
    "\n",
    "def greedy_heuristic(distance_matrix, num_vehicles):\n",
    "    num_locations = len(distance_matrix)\n",
    "    routes = [[] for _ in range(num_vehicles)]\n",
    "    visited = set()\n",
    "    visited.add(0)  # Assuming the depot is at index 0\n",
    "\n",
    "    for route in routes:   # Initialize routes with the depot\n",
    "        route.append(0)\n",
    "\n",
    "    # Assign locations to vehicles\n",
    "    while len(visited) < num_locations:\n",
    "        for route in routes:\n",
    "            if len(visited) == num_locations:\n",
    "                break\n",
    "            last_location = route[-1]\n",
    "            closest_distance = float('inf')\n",
    "            closest_location = None\n",
    "            for i in range(num_locations):\n",
    "                if i not in visited and distance_matrix[last_location][i] < closest_distance:\n",
    "                    closest_distance = distance_matrix[last_location][i]\n",
    "                    closest_location = i\n",
    "            route.append(closest_location)\n",
    "            visited.add(closest_location)\n",
    "\n",
    "    for route in routes:\n",
    "        route.append(0)\n",
    "\n",
    "    return routes\n",
    "\n",
    "def calculate_total_distance(routes, distance_matrix):\n",
    "    total_distance = 0\n",
    "    for route in routes:\n",
    "        for i in range(len(route) - 1):\n",
    "            total_distance += distance_matrix[route[i]][route[i+1]]\n",
    "    return total_distance\n"
   ]
  }
 ],
 "metadata": {
  "kernelspec": {
   "display_name": "Python 3 (ipykernel)",
   "language": "python",
   "name": "python3"
  },
  "language_info": {
   "codemirror_mode": {
    "name": "ipython",
    "version": 3
   },
   "file_extension": ".py",
   "mimetype": "text/x-python",
   "name": "python",
   "nbconvert_exporter": "python",
   "pygments_lexer": "ipython3",
   "version": "3.11.4"
  }
 },
 "nbformat": 4,
 "nbformat_minor": 5
}
